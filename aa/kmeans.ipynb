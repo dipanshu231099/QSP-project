{
 "cells": [
  {
   "cell_type": "code",
   "execution_count": 363,
   "metadata": {},
   "outputs": [],
   "source": [
    "import pandas as pd\n",
    "from sklearn.neighbors import KNeighborsRegressor\n",
    "from sklearn.metrics import mean_squared_error"
   ]
  },
  {
   "cell_type": "code",
   "execution_count": 364,
   "metadata": {},
   "outputs": [],
   "source": [
    "###\n",
    "train_per = 0.7\n",
    "####\n",
    "test_per = 1-train_per\n",
    "\n",
    "#######\n",
    "look_back = 5\n",
    "#####\n",
    "data = pd.read_csv('feedable(new)(verion-2)(lb-' + str(look_back) + '.csv')\n",
    "\n",
    "\n",
    "train_Data = data.head(int(40*(train_per)*(97-look_back)))\n",
    "test_Data = data.tail(int(40*(test_per)*(97-look_back)))\n",
    "\n",
    "\n",
    "true_output_train = train_Data[\"expected_glucose\"]\n",
    "input_features_train = train_Data.drop([\"expected_glucose\",\"pat_no\"] , axis=1)\n",
    "\n",
    "true_output_test = test_Data[\"expected_glucose\"]\n",
    "input_features_test = test_Data.drop([\"expected_glucose\", \"pat_no\"] , axis=1)\n",
    "\n",
    "#####\n",
    "num_neigh = 5\n",
    "##########\n",
    "\n",
    "\n",
    "neigh = KNeighborsRegressor(n_neighbors=num_neigh)\n",
    "neigh.fit(input_features_train ,true_output_train )\n",
    "predict_train = neigh.predict(input_features_train)\n",
    "mse_on_train = mean_squared_error(true_output_train , predict_train)\n",
    "predict_test = neigh.predict(input_features_test)\n",
    "mse_on_test = mean_squared_error(true_output_test , predict_test)\n"
   ]
  },
  {
   "cell_type": "code",
   "execution_count": null,
   "metadata": {},
   "outputs": [],
   "source": []
  },
  {
   "cell_type": "code",
   "execution_count": null,
   "metadata": {},
   "outputs": [],
   "source": []
  },
  {
   "cell_type": "code",
   "execution_count": 365,
   "metadata": {},
   "outputs": [],
   "source": [
    "def initialiaze(train_Data , look_back , num_neigh):\n",
    "    start_no = train_Data[\"pat_no\"][0]\n",
    "    end_no = train_Data[\"pat_no\"][train_Data.shape[0]-1]\n",
    "    df = (train_Data[train_Data[\"pat_no\"]==start_no]).iloc[[0]]\n",
    "    \n",
    "    for i in range(start_no+1,end_no+1):\n",
    "        tt = (train_Data[train_Data[\"pat_no\"]==i]).iloc[[0]]\n",
    "        df = pd.concat([df,tt])\n",
    "    to_drop = []\n",
    "    #df.to_csv(\"tempr.csv\")\n",
    "    for i in range(1,look_back+1):\n",
    "        to_drop.append(\"t-\" + str(i))\n",
    "    to_drop.append(\"expected_glucose\")\n",
    "    to_drop.append(\"pat_no\")\n",
    "    input_features = df.drop( to_drop , axis=1)\n",
    "    #input_features.to_csv(\"abcd.csv\")\n",
    "    models = []\n",
    "    \n",
    "    \n",
    "    for i in range(1,look_back+1):\n",
    "        output = df[\"t-\"+str(i)]\n",
    "        \n",
    "        neigh = KNeighborsRegressor(n_neighbors=num_neigh)\n",
    "        neigh.fit(input_features , output)\n",
    "        models.append(neigh)\n",
    "    return models\n",
    "    \n",
    "        \n",
    "\n",
    "        \n",
    "    \n",
    "    \n",
    "    \n",
    "    \n",
    "\n",
    "    \n",
    "        \n"
   ]
  },
  {
   "cell_type": "code",
   "execution_count": null,
   "metadata": {},
   "outputs": [],
   "source": []
  },
  {
   "cell_type": "code",
   "execution_count": 366,
   "metadata": {},
   "outputs": [],
   "source": [
    "a = initialiaze(train_Data , look_back , num_neigh)"
   ]
  },
  {
   "cell_type": "code",
   "execution_count": null,
   "metadata": {},
   "outputs": [],
   "source": []
  },
  {
   "cell_type": "code",
   "execution_count": 367,
   "metadata": {},
   "outputs": [],
   "source": [
    "def ext(test_list , insert_list , pos):\n",
    "    for i in range(len(insert_list)): \n",
    "        test_list.insert(i + pos, insert_list[i][0]) \n",
    "\n",
    "def sequence(const_para , models , main_model):\n",
    "    seq = []\n",
    "    for i in range(look_back):\n",
    "        seq.append(models[i].predict(const_para))\n",
    "    \n",
    "    pos = 24\n",
    "    for i in range(look_back+1 , 97+1):\n",
    "        history = seq[-look_back:]\n",
    "        tempp = list(const_para[:].values)\n",
    "        tempp = (list(tempp[0]))\n",
    "        ext(tempp , history , pos+1)\n",
    "        #print(tempp)\n",
    "        seq.append((main_model.predict([tempp])))\n",
    "    #print(tempp)\n",
    "    return seq\n",
    "        \n",
    "        \n",
    "    "
   ]
  },
  {
   "cell_type": "markdown",
   "metadata": {},
   "source": []
  },
  {
   "cell_type": "code",
   "execution_count": 368,
   "metadata": {},
   "outputs": [],
   "source": [
    "import numpy as np\n",
    "for j in range(29,30):\n",
    "    tt = (test_Data[test_Data[\"pat_no\"]==j]).iloc[[0]]\n",
    "    to_drop = []\n",
    "    for i in range(1,look_back+1):\n",
    "        to_drop.append(\"t-\" + str(i))\n",
    "    to_drop.append(\"expected_glucose\")\n",
    "    to_drop.append(\"pat_no\")\n",
    "    tt = tt.drop( to_drop , axis=1)\n",
    "    pos = list(tt).index(\"hi4\")\n",
    "    qq = sequence(tt , a , neigh)\n",
    "    np.savetxt(str(j)+\".csv\", qq, delimiter=\",\")"
   ]
  },
  {
   "cell_type": "code",
   "execution_count": null,
   "metadata": {},
   "outputs": [],
   "source": []
  },
  {
   "cell_type": "code",
   "execution_count": null,
   "metadata": {},
   "outputs": [],
   "source": []
  }
 ],
 "metadata": {
  "kernelspec": {
   "display_name": "Python 3",
   "language": "python",
   "name": "python3"
  },
  "language_info": {
   "codemirror_mode": {
    "name": "ipython",
    "version": 3
   },
   "file_extension": ".py",
   "mimetype": "text/x-python",
   "name": "python",
   "nbconvert_exporter": "python",
   "pygments_lexer": "ipython3",
   "version": "3.7.4"
  }
 },
 "nbformat": 4,
 "nbformat_minor": 2
}
