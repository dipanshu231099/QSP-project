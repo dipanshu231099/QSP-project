{
 "cells": [
  {
   "cell_type": "code",
   "execution_count": 22,
   "metadata": {},
   "outputs": [],
   "source": [
    "import pandas as pd"
   ]
  },
  {
   "cell_type": "code",
   "execution_count": 23,
   "metadata": {},
   "outputs": [],
   "source": [
    "dataset = open('Dataset.txt', 'r').read()"
   ]
  },
  {
   "cell_type": "code",
   "execution_count": 24,
   "metadata": {},
   "outputs": [],
   "source": [
    "patients = dataset.split('Patient')\n",
    "patients.remove('')\n",
    "patients\n",
    "glucose=[]\n",
    "for p in patients:\n",
    "    s = p[3:].replace('\\t',',').replace(' ','')\n",
    "    new_str = s.split('\\n\\n')[0]\n",
    "    if(new_str[0]=='\\n'):\n",
    "        new_str=new_str[1:]\n",
    "    glucose.append(new_str)"
   ]
  },
  {
   "cell_type": "code",
   "execution_count": 25,
   "metadata": {},
   "outputs": [],
   "source": [
    "for i in range(len(glucose)):\n",
    "    writable = open('data/patient_'+str(i)+'.csv','w')\n",
    "    writable.write(glucose[i])\n",
    "    writable.close()"
   ]
  }
 ],
 "metadata": {
  "kernelspec": {
   "display_name": "Python 3",
   "language": "python",
   "name": "python3"
  },
  "language_info": {
   "codemirror_mode": {
    "name": "ipython",
    "version": 3
   },
   "file_extension": ".py",
   "mimetype": "text/x-python",
   "name": "python",
   "nbconvert_exporter": "python",
   "pygments_lexer": "ipython3",
   "version": "3.8.3"
  }
 },
 "nbformat": 4,
 "nbformat_minor": 4
}
