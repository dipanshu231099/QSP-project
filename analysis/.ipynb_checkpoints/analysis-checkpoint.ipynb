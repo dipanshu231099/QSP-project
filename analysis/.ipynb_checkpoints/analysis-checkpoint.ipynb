{
 "cells": [
  {
   "cell_type": "code",
   "execution_count": 122,
   "metadata": {},
   "outputs": [],
   "source": [
    "import pandas as pd\n",
    "import numpy as np\n",
    "import matplotlib.pyplot as plt\n",
    "from pandas.plotting import autocorrelation_plot\n",
    "import os\n",
    "\n"
   ]
  },
  {
   "cell_type": "code",
   "execution_count": 131,
   "metadata": {
    "scrolled": true
   },
   "outputs": [],
   "source": [
    "auto_corr=[]\n",
    "\n",
    "for i in range(40):\n",
    "    #reading the data\n",
    "    data = pd.read_csv('../data/merged_patient{0}.csv'.format(i))\n",
    "    series = data.expected_glucose\n",
    "    \n",
    "    #graphs with values\n",
    "    plt.plot(series)\n",
    "    if not os.path.exists('graphs/glucose/'):\n",
    "        os.mkdir('graphs/glucose/')\n",
    "    plt.savefig('graphs/glucose/glucose_values_{0}.png'.format(i))\n",
    "    plt.close()\n",
    "    \n",
    "    #graphs for autocorrelational plot\n",
    "    autocorrelation_plot(series)\n",
    "    vals=plt.gca().lines[5].get_ydata()\n",
    "    vals=np.insert(vals,0,1)\n",
    "    auto_corr.append(vals)\n",
    "    if not os.path.exists('graphs/autoreg_plots/'):\n",
    "        os.mkdir('graphs/autoreg_plots/')\n",
    "    plt.savefig('graphs/autoreg_plots/autocorrelation_plots_{0}.png'.format(i))\n",
    "    plt.close()\n",
    "    \n",
    "    "
   ]
  },
  {
   "cell_type": "code",
   "execution_count": 140,
   "metadata": {},
   "outputs": [],
   "source": [
    "auto_corr_df = pd.DataFrame(auto_corr).T"
   ]
  },
  {
   "cell_type": "code",
   "execution_count": 143,
   "metadata": {
    "scrolled": false
   },
   "outputs": [],
   "source": [
    "#give the autocorrelation values for each patient vs lag\n",
    "\n",
    "auto_corr_df.columns = ['patient'+str(i) for i in auto_corr_df.columns]\n",
    "auto_corr_df.to_csv('autocorrelation_coeffecients.csv', index=False)"
   ]
  }
 ],
 "metadata": {
  "kernelspec": {
   "display_name": "Python 3",
   "language": "python",
   "name": "python3"
  },
  "language_info": {
   "codemirror_mode": {
    "name": "ipython",
    "version": 3
   },
   "file_extension": ".py",
   "mimetype": "text/x-python",
   "name": "python",
   "nbconvert_exporter": "python",
   "pygments_lexer": "ipython3",
   "version": "3.8.3"
  }
 },
 "nbformat": 4,
 "nbformat_minor": 4
}
