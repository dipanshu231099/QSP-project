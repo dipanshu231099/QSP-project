{
 "cells": [
  {
   "cell_type": "code",
   "execution_count": 81,
   "metadata": {},
   "outputs": [],
   "source": [
    "import pandas as pd\n",
    "from numpy import array\n",
    "from numpy import argmax\n",
    "from sklearn.preprocessing import LabelEncoder\n",
    "from sklearn.preprocessing import OneHotEncoder\n"
   ]
  },
  {
   "cell_type": "code",
   "execution_count": 82,
   "metadata": {},
   "outputs": [],
   "source": [
    "def db_new(patient_no , look_back):\n",
    "    data = pd.read_csv(\"data/merged_patient\" + str(patient_no-1) + \".csv\")\n",
    "    glucose = data[\"expected_glucose\"]\n",
    "    tt = []\n",
    "    for i in range(look_back):\n",
    "        tt.append([])\n",
    "    \n",
    "    rows = data.shape[0]\n",
    "    for i in range(look_back , rows):\n",
    "        for j in range(1,look_back+1):\n",
    "            tt[j-1].append(glucose[i-j])\n",
    "\n",
    "    to_drop = [i for i in range(look_back)]\n",
    "    \n",
    "    data = data.drop(to_drop);\n",
    "    for i in range(1 , look_back+1):\n",
    "        data[str(\"t-\") + str(i)] = tt[i-1];\n",
    "\n",
    "    return data\n",
    "# def db_new(patient_no , look_back):\n",
    "#     data = pd.read_csv(\"data/merged_patient\" + str(patient_no-1) + \".csv\")\n",
    "# #     glucose = data[\"expected_glucose\"]\n",
    "# #     tt = []\n",
    "# #     for i in range(look_back):\n",
    "# #         tt.append([])\n",
    "    \n",
    "# #     rows = data.shape[0]\n",
    "# #     for i in range(look_back , rows):\n",
    "# #         for j in range(1,look_back+1):\n",
    "# #             tt[j-1].append(glucose[i-j])\n",
    "\n",
    "# #     to_drop = [i for i in range(look_back)]\n",
    "    \n",
    "# #     data = data.drop(to_drop);\n",
    "# #     for i in range(1 , look_back+1):\n",
    "# #         data[str(\"t-\") + str(i)] = tt[i-1];\n",
    "\n",
    "#     return data\n",
    "        \n",
    "    "
   ]
  },
  {
   "cell_type": "code",
   "execution_count": 83,
   "metadata": {},
   "outputs": [],
   "source": [
    "start = 1;\n",
    "########3\n",
    "look_back = 15\n",
    "########\n",
    "df = db_new(start,look_back)\n",
    "df[\"pat_no\"] = [1] * df.shape[0]\n",
    "\n",
    "endlimit = 40\n",
    "#patient_data = pd.read_csv(\"test.csv\") \n",
    "#no_rows = patient_data.shape[0]\n",
    "for i in range(start+1,endlimit+1):\n",
    "    temp_df = db_new(i,look_back)\n",
    "    temp_df[\"pat_no\"] = [i] * temp_df.shape[0] #augmenting the patient no. as seperate column\n",
    "    df = pd.concat([df , temp_df ])\n",
    "    \n"
   ]
  },
  {
   "cell_type": "code",
   "execution_count": null,
   "metadata": {},
   "outputs": [],
   "source": []
  },
  {
   "cell_type": "code",
   "execution_count": 84,
   "metadata": {},
   "outputs": [],
   "source": [
    "def onehot(data):\n",
    "    values = array(data)\n",
    "\n",
    "    label_encoder = LabelEncoder()\n",
    "    integer_encoded = label_encoder.fit_transform(values)\n",
    "\n",
    "    onehot_encoder = OneHotEncoder(sparse=False)\n",
    "    integer_encoded = integer_encoded.reshape(len(integer_encoded), 1)\n",
    "    onehot_encoded = onehot_encoder.fit_transform(integer_encoded)\n",
    "    \n",
    "    return onehot_encoded\n",
    "def augment_onehot(encoded , df , prefix):\n",
    "    \n",
    "    for i in range(encoded.shape[1]):\n",
    "        df[prefix+str(i)] = encoded[:,i]\n",
    "    return df"
   ]
  },
  {
   "cell_type": "code",
   "execution_count": 85,
   "metadata": {},
   "outputs": [
    {
     "name": "stderr",
     "output_type": "stream",
     "text": [
      "C:\\Users\\ayush\\Anaconda3\\lib\\site-packages\\sklearn\\preprocessing\\_encoders.py:415: FutureWarning: The handling of integer data will change in version 0.22. Currently, the categories are determined based on the range [0, max(values)], while in the future they will be determined based on the unique values.\n",
      "If you want the future behaviour and silence this warning, you can specify \"categories='auto'\".\n",
      "In case you used a LabelEncoder before this OneHotEncoder to convert the categories to integers, then you can now use the OneHotEncoder directly.\n",
      "  warnings.warn(msg, FutureWarning)\n",
      "C:\\Users\\ayush\\Anaconda3\\lib\\site-packages\\sklearn\\preprocessing\\_encoders.py:415: FutureWarning: The handling of integer data will change in version 0.22. Currently, the categories are determined based on the range [0, max(values)], while in the future they will be determined based on the unique values.\n",
      "If you want the future behaviour and silence this warning, you can specify \"categories='auto'\".\n",
      "In case you used a LabelEncoder before this OneHotEncoder to convert the categories to integers, then you can now use the OneHotEncoder directly.\n",
      "  warnings.warn(msg, FutureWarning)\n",
      "C:\\Users\\ayush\\Anaconda3\\lib\\site-packages\\sklearn\\preprocessing\\_encoders.py:415: FutureWarning: The handling of integer data will change in version 0.22. Currently, the categories are determined based on the range [0, max(values)], while in the future they will be determined based on the unique values.\n",
      "If you want the future behaviour and silence this warning, you can specify \"categories='auto'\".\n",
      "In case you used a LabelEncoder before this OneHotEncoder to convert the categories to integers, then you can now use the OneHotEncoder directly.\n",
      "  warnings.warn(msg, FutureWarning)\n",
      "C:\\Users\\ayush\\Anaconda3\\lib\\site-packages\\sklearn\\preprocessing\\_encoders.py:415: FutureWarning: The handling of integer data will change in version 0.22. Currently, the categories are determined based on the range [0, max(values)], while in the future they will be determined based on the unique values.\n",
      "If you want the future behaviour and silence this warning, you can specify \"categories='auto'\".\n",
      "In case you used a LabelEncoder before this OneHotEncoder to convert the categories to integers, then you can now use the OneHotEncoder directly.\n",
      "  warnings.warn(msg, FutureWarning)\n",
      "C:\\Users\\ayush\\Anaconda3\\lib\\site-packages\\sklearn\\preprocessing\\_encoders.py:415: FutureWarning: The handling of integer data will change in version 0.22. Currently, the categories are determined based on the range [0, max(values)], while in the future they will be determined based on the unique values.\n",
      "If you want the future behaviour and silence this warning, you can specify \"categories='auto'\".\n",
      "In case you used a LabelEncoder before this OneHotEncoder to convert the categories to integers, then you can now use the OneHotEncoder directly.\n",
      "  warnings.warn(msg, FutureWarning)\n",
      "C:\\Users\\ayush\\Anaconda3\\lib\\site-packages\\sklearn\\preprocessing\\_encoders.py:415: FutureWarning: The handling of integer data will change in version 0.22. Currently, the categories are determined based on the range [0, max(values)], while in the future they will be determined based on the unique values.\n",
      "If you want the future behaviour and silence this warning, you can specify \"categories='auto'\".\n",
      "In case you used a LabelEncoder before this OneHotEncoder to convert the categories to integers, then you can now use the OneHotEncoder directly.\n",
      "  warnings.warn(msg, FutureWarning)\n"
     ]
    }
   ],
   "source": [
    "onehot_rtg = onehot(list(df[\"RTG\"]))      \n",
    "onehot_rf = onehot(list(df[\"RF\"]))   \n",
    "onehot_liver = onehot(list(df[\"liver\"]))\n",
    "onehot_peripheral = onehot(list(df[\"peripheral\"]))\n",
    "onehot_par1 = onehot(list(df[\"par1\"]))\n",
    "onehot_par2 = onehot(list(df[\"par2\"]))\n",
    "df = augment_onehot(onehot_rtg , df , \"rtg\")\n",
    "df = augment_onehot(onehot_rf , df , \"rf\")\n",
    "df = augment_onehot(onehot_liver , df , \"liver\")\n",
    "df = augment_onehot(onehot_peripheral , df , \"peripheral\")\n",
    "df = augment_onehot(onehot_par1 , df , \"par1\")\n",
    "df = augment_onehot(onehot_par2 , df , \"par2\")\n",
    "df = df.drop([\"RTG\",\"RF\",\"liver\",\"peripheral\",\"par1\",\"par2\"] , axis=1)\n",
    "\n"
   ]
  },
  {
   "cell_type": "code",
   "execution_count": null,
   "metadata": {},
   "outputs": [],
   "source": []
  },
  {
   "cell_type": "code",
   "execution_count": null,
   "metadata": {},
   "outputs": [],
   "source": []
  },
  {
   "cell_type": "code",
   "execution_count": 86,
   "metadata": {},
   "outputs": [],
   "source": [
    "df = df.drop([\"Name\"] , axis=1)\n",
    "\n"
   ]
  },
  {
   "cell_type": "code",
   "execution_count": 87,
   "metadata": {
    "scrolled": true
   },
   "outputs": [],
   "source": [
    "to_ignore = []\n",
    "for i in range(1,look_back+1):\n",
    "    to_ignore.append(\"t-\" + str(i))\n",
    "\n",
    "# for var in df.keys():\n",
    "#     try:\n",
    "#         if(var!=\"expected_glucose\" and var!=\"pat_no\" and (var not in to_ignore)):\n",
    "#             if((df[var].max()-df[var].min())!=0):\n",
    "#                 df[var] = ((df[var]-df[var].min())/(df[var].max()-df[var].min()))\n",
    "#     except:\n",
    "#         print(var , \"created problem\")"
   ]
  },
  {
   "cell_type": "code",
   "execution_count": null,
   "metadata": {},
   "outputs": [],
   "source": []
  },
  {
   "cell_type": "code",
   "execution_count": 88,
   "metadata": {},
   "outputs": [],
   "source": [
    "df.to_csv('feedable(new)(verion-2)(lb-' + str(look_back) + '.csv', index=False)\n"
   ]
  },
  {
   "cell_type": "code",
   "execution_count": 89,
   "metadata": {},
   "outputs": [
    {
     "data": {
      "text/plain": [
       "15     1\n",
       "16     1\n",
       "17     1\n",
       "18     1\n",
       "19     1\n",
       "      ..\n",
       "92    40\n",
       "93    40\n",
       "94    40\n",
       "95    40\n",
       "96    40\n",
       "Name: pat_no, Length: 3280, dtype: int64"
      ]
     },
     "execution_count": 89,
     "metadata": {},
     "output_type": "execute_result"
    }
   ],
   "source": [
    "df[\"pat_no\"]"
   ]
  },
  {
   "cell_type": "code",
   "execution_count": null,
   "metadata": {},
   "outputs": [],
   "source": [
    "\n",
    "        \n",
    "        \n",
    "        "
   ]
  },
  {
   "cell_type": "code",
   "execution_count": null,
   "metadata": {},
   "outputs": [],
   "source": []
  },
  {
   "cell_type": "code",
   "execution_count": null,
   "metadata": {},
   "outputs": [],
   "source": []
  }
 ],
 "metadata": {
  "kernelspec": {
   "display_name": "Python 3",
   "language": "python",
   "name": "python3"
  },
  "language_info": {
   "codemirror_mode": {
    "name": "ipython",
    "version": 3
   },
   "file_extension": ".py",
   "mimetype": "text/x-python",
   "name": "python",
   "nbconvert_exporter": "python",
   "pygments_lexer": "ipython3",
   "version": "3.7.4"
  }
 },
 "nbformat": 4,
 "nbformat_minor": 2
}
