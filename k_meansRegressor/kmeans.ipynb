{
 "cells": [
  {
   "cell_type": "code",
   "execution_count": 1,
   "metadata": {},
   "outputs": [],
   "source": [
    "import pandas as pd\n",
    "from sklearn.neighbors import KNeighborsRegressor\n",
    "from sklearn.metrics import mean_squared_error"
   ]
  },
  {
   "cell_type": "code",
   "execution_count": 2,
   "metadata": {},
   "outputs": [],
   "source": [
    "\n",
    "look_back = i\n",
    "data = pd.read_csv('feedable(new)(verion-2)(lb-' + str(look_back) + '.csv')\n",
    "train_Data = data.head(2660)\n",
    "test_Data = data.tail(1140)\n",
    "\n",
    "true_output_train = train_Data[\"expected_glucose\"]\n",
    "input_features_train = train_Data.drop([\"expected_glucose\"] , axis=1)\n",
    "\n",
    "true_output_test = test_Data[\"expected_glucose\"]\n",
    "input_features_test = test_Data.drop([\"expected_glucose\"] , axis=1)\n",
    "error = []\n",
    "\n",
    "for i in range(1,10):\n",
    "    num_neigh = i\n",
    "    neigh = KNeighborsRegressor(n_neighbors=num_neigh)\n",
    "    neigh.fit(input_features_train ,true_output_train )\n",
    "    predict_train = neigh.predict(input_features_train)\n",
    "    mse_on_train = mean_squared_error(true_output_train , predict_train)\n",
    "    #print(\"M.S.E on training data\" , mse_on_train)\n",
    "    predict_test = neigh.predict(input_features_test)\n",
    "    mse_on_test = mean_squared_error(true_output_test , predict_test)\n",
    "    error.append((mse_on_test)**(1/2))"
   ]
  },
  {
   "cell_type": "code",
   "execution_count": 9,
   "metadata": {},
   "outputs": [
    {
     "data": {
      "image/png": "[encoded data removed]",
      "text/plain": [
       "<Figure size 432x288 with 1 Axes>"
      ]
     },
     "metadata": {
      "needs_background": "light"
     },
     "output_type": "display_data"
    },
    {
     "name": "stdout",
     "output_type": "stream",
     "text": [
      "0.8768574549624345\n"
     ]
    }
   ],
   "source": [
    "import matplotlib.pyplot as plt\n",
    "x = [i for i in range(1,10)]\n",
    "plt.plot(x , error)\n",
    "plt.show()\n",
    "print(min(error))"
   ]
  },
  {
   "cell_type": "code",
   "execution_count": 4,
   "metadata": {},
   "outputs": [],
   "source": [
    "\n",
    "\n"
   ]
  },
  {
   "cell_type": "code",
   "execution_count": 5,
   "metadata": {},
   "outputs": [
    {
     "data": {
      "text/plain": [
       "[0.8844656115286322,\n",
       " 0.8801074843212044,\n",
       " 0.8768574549624345,\n",
       " 0.8891328128239424,\n",
       " 0.91017399996957,\n",
       " 0.9218411140783302,\n",
       " 0.9296029255949375,\n",
       " 0.9416753043356082,\n",
       " 0.9647390151007089]"
      ]
     },
     "execution_count": 5,
     "metadata": {},
     "output_type": "execute_result"
    }
   ],
   "source": [
    "error"
   ]
  },
  {
   "cell_type": "markdown",
   "metadata": {},
   "source": []
  },
  {
   "cell_type": "code",
   "execution_count": null,
   "metadata": {},
   "outputs": [],
   "source": []
  },
  {
   "cell_type": "code",
   "execution_count": null,
   "metadata": {},
   "outputs": [],
   "source": []
  }
 ],
 "metadata": {
  "kernelspec": {
   "display_name": "Python 3",
   "language": "python",
   "name": "python3"
  },
  "language_info": {
   "codemirror_mode": {
    "name": "ipython",
    "version": 3
   },
   "file_extension": ".py",
   "mimetype": "text/x-python",
   "name": "python",
   "nbconvert_exporter": "python",
   "pygments_lexer": "ipython3",
   "version": "3.7.4"
  }
 },
 "nbformat": 4,
 "nbformat_minor": 2
}
