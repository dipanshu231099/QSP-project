{
 "cells": [
  {
   "cell_type": "code",
   "execution_count": 28,
   "metadata": {},
   "outputs": [],
   "source": [
    "import pandas as pd\n",
    "from numpy import array\n",
    "from numpy import argmax\n",
    "from sklearn.preprocessing import LabelEncoder\n",
    "from sklearn.preprocessing import OneHotEncoder\n"
   ]
  },
  {
   "cell_type": "code",
   "execution_count": 29,
   "metadata": {},
   "outputs": [],
   "source": [
    "#returns the augmented data with previous time steps\n",
    "def db(patient_no):\n",
    "    data = pd.read_csv(\"data/merged_patient\" + str(patient_no-1) + \".csv\")\n",
    "    glucose = data[\"expected_glucose\"]\n",
    "    t1 = []\n",
    "    t2 = []\n",
    "    t3 = []\n",
    "    rows = data.shape[0]\n",
    "    for i in range(3,rows):\n",
    "        t1.append(glucose[i-1])\n",
    "        t2.append(glucose[i-2])\n",
    "        t3.append(glucose[i-3])\n",
    "    data = data.drop([0, 1, 2] );\n",
    "    data[\"t1\"] = t1\n",
    "    data[\"t2\"] = t2\n",
    "    data[\"t3\"] = t3\n",
    "    return data\n",
    "    \n",
    "    "
   ]
  },
  {
   "cell_type": "code",
   "execution_count": 95,
   "metadata": {},
   "outputs": [],
   "source": [
    "df = db(1)\n",
    "patient_data = pd.read_csv(\"info.csv\") \n",
    "no_rows = patient_data.shape[0]\n",
    "for i in range(2,no_rows+1):\n",
    "    temp_df = db(i)\n",
    "    df = pd.concat([df , temp_df ])\n",
    "    "
   ]
  },
  {
   "cell_type": "code",
   "execution_count": 97,
   "metadata": {},
   "outputs": [],
   "source": [
    "def onehot(data):\n",
    "    values = array(data)\n",
    "\n",
    "    label_encoder = LabelEncoder()\n",
    "    integer_encoded = label_encoder.fit_transform(values)\n",
    "\n",
    "    onehot_encoder = OneHotEncoder(sparse=False)\n",
    "    integer_encoded = integer_encoded.reshape(len(integer_encoded), 1)\n",
    "    onehot_encoded = onehot_encoder.fit_transform(integer_encoded)\n",
    "    \n",
    "    return onehot_encoded"
   ]
  },
  {
   "cell_type": "code",
   "execution_count": 105,
   "metadata": {},
   "outputs": [
    {
     "name": "stderr",
     "output_type": "stream",
     "text": [
      "C:\\Users\\ayush\\Anaconda3\\lib\\site-packages\\sklearn\\preprocessing\\_encoders.py:415: FutureWarning: The handling of integer data will change in version 0.22. Currently, the categories are determined based on the range [0, max(values)], while in the future they will be determined based on the unique values.\n",
      "If you want the future behaviour and silence this warning, you can specify \"categories='auto'\".\n",
      "In case you used a LabelEncoder before this OneHotEncoder to convert the categories to integers, then you can now use the OneHotEncoder directly.\n",
      "  warnings.warn(msg, FutureWarning)\n",
      "C:\\Users\\ayush\\Anaconda3\\lib\\site-packages\\sklearn\\preprocessing\\_encoders.py:415: FutureWarning: The handling of integer data will change in version 0.22. Currently, the categories are determined based on the range [0, max(values)], while in the future they will be determined based on the unique values.\n",
      "If you want the future behaviour and silence this warning, you can specify \"categories='auto'\".\n",
      "In case you used a LabelEncoder before this OneHotEncoder to convert the categories to integers, then you can now use the OneHotEncoder directly.\n",
      "  warnings.warn(msg, FutureWarning)\n",
      "C:\\Users\\ayush\\Anaconda3\\lib\\site-packages\\sklearn\\preprocessing\\_encoders.py:415: FutureWarning: The handling of integer data will change in version 0.22. Currently, the categories are determined based on the range [0, max(values)], while in the future they will be determined based on the unique values.\n",
      "If you want the future behaviour and silence this warning, you can specify \"categories='auto'\".\n",
      "In case you used a LabelEncoder before this OneHotEncoder to convert the categories to integers, then you can now use the OneHotEncoder directly.\n",
      "  warnings.warn(msg, FutureWarning)\n",
      "C:\\Users\\ayush\\Anaconda3\\lib\\site-packages\\sklearn\\preprocessing\\_encoders.py:415: FutureWarning: The handling of integer data will change in version 0.22. Currently, the categories are determined based on the range [0, max(values)], while in the future they will be determined based on the unique values.\n",
      "If you want the future behaviour and silence this warning, you can specify \"categories='auto'\".\n",
      "In case you used a LabelEncoder before this OneHotEncoder to convert the categories to integers, then you can now use the OneHotEncoder directly.\n",
      "  warnings.warn(msg, FutureWarning)\n"
     ]
    }
   ],
   "source": [
    "onehot_rtg = onehot(list(df[\"RTG\"]))      \n",
    "onehot_rf = onehot(list(df[\"RF\"]))   \n",
    "onehot_liver = onehot(list(df[\"liver\"]))\n",
    "onehot_peripheral = onehot(list(df[\"peripheral\"]))\n",
    "def augment_onehot(encoded , df , prefix):\n",
    "    \n",
    "    for i in range(encoded.shape[1]):\n",
    "        df[prefix+str(i)] = encoded[:,i]\n",
    "    return df\n",
    "df = augment_onehot(onehot_rtg , df , \"rtg\")\n",
    "df = augment_onehot(onehot_rf , df , \"rf\")\n",
    "df = augment_onehot(onehot_liver , df , \"liver\")\n",
    "df = augment_onehot(onehot_peripheral , df , \"peripheral\")\n",
    "\n",
    "    \n",
    "df = df.drop([\"RTG\" , \"RF\" , \"liver\" , \"peripheral\" ] , axis=1)\n",
    "\n",
    "    "
   ]
  },
  {
   "cell_type": "code",
   "execution_count": 106,
   "metadata": {},
   "outputs": [
    {
     "data": {
      "text/plain": [
       "Index(['Weight(kg)', 't1', 't2', 't3', 't4', 't5', 't6', 'c1', 'c2', 'c3',\n",
       "       'c4', 'c5', 'c6', 'ht1', 'ht2', 'ht3', 'ht4', 'hs1', 'hs2', 'hs3',\n",
       "       'hs4', 'hi1', 'hi2', 'hi3', 'hi4', 'expected_glucose', 'rtg0', 'rtg1',\n",
       "       'rtg2', 'rf0', 'liver0', 'liver1', 'liver2', 'peripheral0',\n",
       "       'peripheral1', 'peripheral2'],\n",
       "      dtype='object')"
      ]
     },
     "execution_count": 106,
     "metadata": {},
     "output_type": "execute_result"
    }
   ],
   "source": [
    "df.keys()"
   ]
  },
  {
   "cell_type": "code",
   "execution_count": 107,
   "metadata": {},
   "outputs": [],
   "source": [
    "df.to_csv('feedable_with_name.csv', index=False)\n",
    "# df.to_csv('feedable2.csv', index=True)"
   ]
  },
  {
   "cell_type": "code",
   "execution_count": 88,
   "metadata": {},
   "outputs": [
    {
     "data": {
      "text/plain": [
       "array([1, 4, 7])"
      ]
     },
     "execution_count": 88,
     "metadata": {},
     "output_type": "execute_result"
    }
   ],
   "source": []
  },
  {
   "cell_type": "code",
   "execution_count": null,
   "metadata": {},
   "outputs": [],
   "source": []
  },
  {
   "cell_type": "code",
   "execution_count": null,
   "metadata": {},
   "outputs": [],
   "source": []
  },
  {
   "cell_type": "code",
   "execution_count": null,
   "metadata": {},
   "outputs": [],
   "source": []
  }
 ],
 "metadata": {
  "kernelspec": {
   "display_name": "Python 3",
   "language": "python",
   "name": "python3"
  },
  "language_info": {
   "codemirror_mode": {
    "name": "ipython",
    "version": 3
   },
   "file_extension": ".py",
   "mimetype": "text/x-python",
   "name": "python",
   "nbconvert_exporter": "python",
   "pygments_lexer": "ipython3",
   "version": "3.8.3"
  }
 },
 "nbformat": 4,
 "nbformat_minor": 2
}
